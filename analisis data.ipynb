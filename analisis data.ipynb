{
 "cells": [
  {
   "cell_type": "code",
   "execution_count": 1,
   "metadata": {},
   "outputs": [],
   "source": [
    "import pandas as pd\n",
    "import csv\n",
    "import numpy as np\n",
    "import xml.etree.ElementTree as ET"
   ]
  },
  {
   "cell_type": "code",
   "execution_count": 2,
   "metadata": {},
   "outputs": [],
   "source": [
    "class UFDS:\n",
    "    def __init__(self):\n",
    "        self.nodes = set()\n",
    "        self.parent = {}\n",
    "    \n",
    "    def init_id(self, *nodes):\n",
    "        for node in nodes:\n",
    "            if node not in self.nodes:\n",
    "                self.nodes.add(node)\n",
    "                self.parent[node] = node\n",
    "        \n",
    "    def root(self, x):\n",
    "        self.init_id(x)\n",
    "        \n",
    "        if self.parent[x] == x:\n",
    "            return x\n",
    "        else:\n",
    "            self.parent[x] = self.root(self.parent[x])\n",
    "            return self.parent[x]\n",
    "    \n",
    "    def gabung(self, x, y):\n",
    "        self.init_id(x, y)\n",
    "        \n",
    "        self.parent[self.root(x)] = self.root(y)\n",
    "    \n",
    "    def is_same(self, x, y):\n",
    "        self.init_id(x, y)\n",
    "        \n",
    "        return self.root(x) == self.root(y)"
   ]
  },
  {
   "cell_type": "code",
   "execution_count": 4,
   "metadata": {},
   "outputs": [],
   "source": [
    "data = ET.parse('./data.xml')\n",
    "root = data.getroot()"
   ]
  },
  {
   "cell_type": "code",
   "execution_count": 5,
   "metadata": {},
   "outputs": [],
   "source": [
    "ufds = UFDS()\n",
    "nodes = {}"
   ]
  },
  {
   "cell_type": "code",
   "execution_count": 6,
   "metadata": {},
   "outputs": [
    {
     "name": "stdout",
     "output_type": "stream",
     "text": [
      "banyak markable: 7120\n"
     ]
    }
   ],
   "source": [
    "# ngitung jumlah markable sekalian gabung-gabungin\n",
    "\n",
    "for sentence in root:\n",
    "    for phrase in sentence:\n",
    "        if 'id' in phrase.attrib:\n",
    "            ufds.init_id(int(phrase.attrib['id']))\n",
    "            nodes[int(phrase.attrib['id'])] = phrase\n",
    "        \n",
    "        if 'coref' in phrase.attrib:\n",
    "            ufds.gabung(int(phrase.attrib['id']), int(phrase.attrib['coref']))\n",
    "\n",
    "print('banyak markable: %d' % len(ufds.nodes))"
   ]
  },
  {
   "cell_type": "code",
   "execution_count": 8,
   "metadata": {},
   "outputs": [
    {
     "name": "stdout",
     "output_type": "stream",
     "text": [
      "banyak kelompok non-singleton: 307\n",
      "banyak singleton: 6148\n",
      "banyak non-singleton: 972\n",
      "banyak \"nya\": 457\n"
     ]
    }
   ],
   "source": [
    "# ngitung banyak singleton dan non-singleton, ngitung banyak \"nya\"\n",
    "\n",
    "kelompok = {}\n",
    "kelompok_non_singleton = set()\n",
    "self_par = 0\n",
    "not_self_par = 0\n",
    "nya = 0\n",
    "\n",
    "for node in ufds.nodes:\n",
    "    if ufds.root(node) not in kelompok:\n",
    "        kelompok[ufds.root(node)] = []\n",
    "    \n",
    "    kelompok[ufds.root(node)].append(node)\n",
    "    \n",
    "    if ufds.root(node) == node:\n",
    "        self_par += 1\n",
    "    else:\n",
    "        not_self_par += 1\n",
    "        kelompok_non_singleton.add(ufds.root(node))\n",
    "    \n",
    "    if nodes[node].text[:3] == 'nya':\n",
    "        nya += 1\n",
    "\n",
    "print('banyak kelompok non-singleton: %d' % len(kelompok_non_singleton))\n",
    "print('banyak singleton: %d' % (self_par - len(kelompok_non_singleton)))\n",
    "print('banyak non-singleton: %d' % (not_self_par + len(kelompok_non_singleton)))\n",
    "print('banyak \"nya\": %d' % nya)"
   ]
  },
  {
   "cell_type": "code",
   "execution_count": 9,
   "metadata": {},
   "outputs": [
    {
     "name": "stdout",
     "output_type": "stream",
     "text": [
      "Kelompok terbesar: 18\n"
     ]
    }
   ],
   "source": [
    "maks = 0\n",
    "for par in kelompok:\n",
    "    maks = max(maks, len(kelompok[par]))\n",
    "\n",
    "print('Kelompok terbesar: %d' % maks)"
   ]
  },
  {
   "cell_type": "code",
   "execution_count": 10,
   "metadata": {},
   "outputs": [],
   "source": [
    "def is_singleton(node):\n",
    "    par = ufds.root(node)\n",
    "    return len(kelompok[par]) == 1"
   ]
  },
  {
   "cell_type": "code",
   "execution_count": 11,
   "metadata": {},
   "outputs": [
    {
     "name": "stdout",
     "output_type": "stream",
     "text": [
      "data latih positif: 665\n",
      "data latih negatif, singleton termasuk: 6548\n",
      "data latih negatif, singleton tidak termasuk: 1112\n"
     ]
    }
   ],
   "source": [
    "positive = 0\n",
    "negative_with_singleton = 0\n",
    "negative_without_singleton = 0\n",
    "\n",
    "for par in kelompok:\n",
    "    for i in range(len(kelompok[par]) - 1):\n",
    "        positive += 1\n",
    "        \n",
    "        for j in range(kelompok[par][i] + 1, kelompok[par][i+1]):\n",
    "            negative_with_singleton += 2\n",
    "            if not is_singleton(j):\n",
    "                negative_without_singleton += 2\n",
    "\n",
    "print('data latih positif: %d' % positive)\n",
    "print('data latih negatif, singleton termasuk: %d' % negative_with_singleton)\n",
    "print('data latih negatif, singleton tidak termasuk: %d' % negative_without_singleton)"
   ]
  },
  {
   "cell_type": "code",
   "execution_count": null,
   "metadata": {},
   "outputs": [],
   "source": []
  }
 ],
 "metadata": {
  "kernelspec": {
   "display_name": "Python 3.6",
   "language": "python",
   "name": "python3.6"
  },
  "language_info": {
   "codemirror_mode": {
    "name": "ipython",
    "version": 3
   },
   "file_extension": ".py",
   "mimetype": "text/x-python",
   "name": "python",
   "nbconvert_exporter": "python",
   "pygments_lexer": "ipython3",
   "version": "3.6.5"
  }
 },
 "nbformat": 4,
 "nbformat_minor": 2
}
